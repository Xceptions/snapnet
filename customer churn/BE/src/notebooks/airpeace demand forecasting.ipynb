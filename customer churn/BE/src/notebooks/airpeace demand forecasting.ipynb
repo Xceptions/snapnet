{
 "cells": [
  {
   "cell_type": "code",
   "execution_count": 1,
   "id": "8a3560d1",
   "metadata": {},
   "outputs": [],
   "source": [
    "import numpy as np\n",
    "import pandas as pd\n",
    "import xgboost as xgb\n",
    "from sklearn.model_selection import train_test_split"
   ]
  },
  {
   "cell_type": "code",
   "execution_count": 27,
   "id": "2dc15c47",
   "metadata": {},
   "outputs": [],
   "source": [
    "wk_dir = '../../data'"
   ]
  },
  {
   "cell_type": "code",
   "execution_count": 21,
   "id": "64f6cb19",
   "metadata": {},
   "outputs": [],
   "source": [
    "train_df['date'] = train_df['date'] + pd.offsets.DateOffset(years=4)"
   ]
  },
  {
   "cell_type": "code",
   "execution_count": 22,
   "id": "2c0aabec",
   "metadata": {},
   "outputs": [],
   "source": [
    "new_train_df = train_df.loc[(train_df['store'] == 1) | (train_df['store'] == 2)]\n",
    "new_train_df = new_train_df.loc[(new_train_df['item'] == 1) | (new_train_df['item'] == 2) | (new_train_df['item'] == 3)]"
   ]
  },
  {
   "cell_type": "code",
   "execution_count": 29,
   "id": "aaf5249d",
   "metadata": {},
   "outputs": [],
   "source": [
    "def create_data(data, add_yr):\n",
    "    data['date'] = data['date'] + pd.offsets.DateOffset(years=add_yr)\n",
    "    data = data.loc[(data['store'] == 1) | (data['store'] == 2)]\n",
    "    data = data.loc[(data['item'] == 1) | (data['item'] == 2) | (data['item'] == 3)]\n",
    "    data.rename(columns={'store': 'ticket type', 'item': 'ticket class'}, inplace=True)\n",
    "    data['ticket type'].replace({1: 'return', 2: 'one-way'}, inplace=True)\n",
    "    data['ticket class'].replace({1: 'first', 2: 'business', 3: 'economy'}, inplace=True)\n",
    "    \n",
    "    return data"
   ]
  },
  {
   "cell_type": "code",
   "execution_count": 41,
   "id": "68f6a2eb",
   "metadata": {},
   "outputs": [],
   "source": [
    "train_df = pd.read_csv(f'{wk_dir}/train.csv', index_col=False, parse_dates=['date'])\n",
    "test_df = pd.read_csv(f'{wk_dir}/test.csv', index_col=False, parse_dates=['date'])\n",
    "\n",
    "train_df = create_data(train_df, 4)\n",
    "test_df = create_data(test_df, 4)\n",
    "\n",
    "test_df.drop(columns=['id'], inplace=True)\n",
    "test_df = test_df.loc[test_df['date'].dt.month == 1]\n",
    "\n",
    "train_df.to_csv(f'{wk_dir}/airline_flights.csv', index=False)\n",
    "train_df.to_csv(f'{wk_dir}/airline_flights_future.csv', index=False)"
   ]
  },
  {
   "cell_type": "code",
   "execution_count": 40,
   "id": "4169bd3f",
   "metadata": {},
   "outputs": [
    {
     "data": {
      "text/plain": [
       "array([1])"
      ]
     },
     "execution_count": 40,
     "metadata": {},
     "output_type": "execute_result"
    }
   ],
   "source": [
    "test_df['date'].dt.year.unique()\n",
    "test_df = test_df.loc[test_df['date'].dt.month == 1]\n",
    "test_df['date'].dt.month.unique()"
   ]
  },
  {
   "cell_type": "code",
   "execution_count": 24,
   "id": "e729a5fd",
   "metadata": {},
   "outputs": [
    {
     "data": {
      "text/html": [
       "<div>\n",
       "<style scoped>\n",
       "    .dataframe tbody tr th:only-of-type {\n",
       "        vertical-align: middle;\n",
       "    }\n",
       "\n",
       "    .dataframe tbody tr th {\n",
       "        vertical-align: top;\n",
       "    }\n",
       "\n",
       "    .dataframe thead th {\n",
       "        text-align: right;\n",
       "    }\n",
       "</style>\n",
       "<table border=\"1\" class=\"dataframe\">\n",
       "  <thead>\n",
       "    <tr style=\"text-align: right;\">\n",
       "      <th></th>\n",
       "      <th>date</th>\n",
       "      <th>ticket type</th>\n",
       "      <th>ticket class</th>\n",
       "      <th>sales</th>\n",
       "    </tr>\n",
       "  </thead>\n",
       "  <tbody>\n",
       "    <tr>\n",
       "      <th>0</th>\n",
       "      <td>2017-01-01</td>\n",
       "      <td>return</td>\n",
       "      <td>first</td>\n",
       "      <td>13</td>\n",
       "    </tr>\n",
       "    <tr>\n",
       "      <th>1</th>\n",
       "      <td>2017-01-02</td>\n",
       "      <td>return</td>\n",
       "      <td>first</td>\n",
       "      <td>11</td>\n",
       "    </tr>\n",
       "    <tr>\n",
       "      <th>2</th>\n",
       "      <td>2017-01-03</td>\n",
       "      <td>return</td>\n",
       "      <td>first</td>\n",
       "      <td>14</td>\n",
       "    </tr>\n",
       "    <tr>\n",
       "      <th>3</th>\n",
       "      <td>2017-01-04</td>\n",
       "      <td>return</td>\n",
       "      <td>first</td>\n",
       "      <td>13</td>\n",
       "    </tr>\n",
       "    <tr>\n",
       "      <th>4</th>\n",
       "      <td>2017-01-05</td>\n",
       "      <td>return</td>\n",
       "      <td>first</td>\n",
       "      <td>10</td>\n",
       "    </tr>\n",
       "  </tbody>\n",
       "</table>\n",
       "</div>"
      ],
      "text/plain": [
       "        date ticket type ticket class  sales\n",
       "0 2017-01-01      return        first     13\n",
       "1 2017-01-02      return        first     11\n",
       "2 2017-01-03      return        first     14\n",
       "3 2017-01-04      return        first     13\n",
       "4 2017-01-05      return        first     10"
      ]
     },
     "execution_count": 24,
     "metadata": {},
     "output_type": "execute_result"
    }
   ],
   "source": [
    "new_train_df.rename(columns={'store': 'ticket type', 'item': 'ticket class'}, inplace=True)\n",
    "new_train_df['ticket type'].replace({1: 'return', 2: 'one-way'}, inplace=True)\n",
    "new_train_df['ticket class'].replace({1: 'first', 2: 'business', 3: 'economy'}, inplace=True)\n",
    "new_train_df.head()"
   ]
  },
  {
   "cell_type": "code",
   "execution_count": 25,
   "id": "7705a613",
   "metadata": {},
   "outputs": [
    {
     "data": {
      "text/html": [
       "<div>\n",
       "<style scoped>\n",
       "    .dataframe tbody tr th:only-of-type {\n",
       "        vertical-align: middle;\n",
       "    }\n",
       "\n",
       "    .dataframe tbody tr th {\n",
       "        vertical-align: top;\n",
       "    }\n",
       "\n",
       "    .dataframe thead th {\n",
       "        text-align: right;\n",
       "    }\n",
       "</style>\n",
       "<table border=\"1\" class=\"dataframe\">\n",
       "  <thead>\n",
       "    <tr style=\"text-align: right;\">\n",
       "      <th></th>\n",
       "      <th>sales</th>\n",
       "    </tr>\n",
       "  </thead>\n",
       "  <tbody>\n",
       "    <tr>\n",
       "      <th>count</th>\n",
       "      <td>10956.000000</td>\n",
       "    </tr>\n",
       "    <tr>\n",
       "      <th>mean</th>\n",
       "      <td>42.801844</td>\n",
       "    </tr>\n",
       "    <tr>\n",
       "      <th>std</th>\n",
       "      <td>22.557771</td>\n",
       "    </tr>\n",
       "    <tr>\n",
       "      <th>min</th>\n",
       "      <td>4.000000</td>\n",
       "    </tr>\n",
       "    <tr>\n",
       "      <th>25%</th>\n",
       "      <td>25.000000</td>\n",
       "    </tr>\n",
       "    <tr>\n",
       "      <th>50%</th>\n",
       "      <td>38.000000</td>\n",
       "    </tr>\n",
       "    <tr>\n",
       "      <th>75%</th>\n",
       "      <td>56.000000</td>\n",
       "    </tr>\n",
       "    <tr>\n",
       "      <th>max</th>\n",
       "      <td>150.000000</td>\n",
       "    </tr>\n",
       "  </tbody>\n",
       "</table>\n",
       "</div>"
      ],
      "text/plain": [
       "              sales\n",
       "count  10956.000000\n",
       "mean      42.801844\n",
       "std       22.557771\n",
       "min        4.000000\n",
       "25%       25.000000\n",
       "50%       38.000000\n",
       "75%       56.000000\n",
       "max      150.000000"
      ]
     },
     "execution_count": 25,
     "metadata": {},
     "output_type": "execute_result"
    }
   ],
   "source": [
    "new_train_df.describe()"
   ]
  },
  {
   "cell_type": "code",
   "execution_count": 26,
   "id": "a79105af",
   "metadata": {},
   "outputs": [
    {
     "data": {
      "text/plain": [
       "Timestamp('2021-12-31 00:00:00')"
      ]
     },
     "execution_count": 26,
     "metadata": {},
     "output_type": "execute_result"
    }
   ],
   "source": [
    "train_df['date'].max()"
   ]
  },
  {
   "cell_type": "code",
   "execution_count": 18,
   "id": "8d85049c",
   "metadata": {},
   "outputs": [],
   "source": [
    "new_train_df.to_csv('../../data/demand_data.csv', index=False)"
   ]
  },
  {
   "cell_type": "code",
   "execution_count": null,
   "id": "06f51943",
   "metadata": {},
   "outputs": [],
   "source": [
    "y_df = train_df['sales']\n",
    "train_df = train_df[['store', 'item']]"
   ]
  },
  {
   "cell_type": "code",
   "execution_count": null,
   "id": "c4d2541e",
   "metadata": {},
   "outputs": [],
   "source": [
    "tt_x, dev_x, tt_y, dev_y = train_test_split(train_df, y_df, test_size=0.3, random_state=2022)"
   ]
  },
  {
   "cell_type": "code",
   "execution_count": null,
   "id": "227235e1",
   "metadata": {},
   "outputs": [],
   "source": [
    "model = xgb.XGBRegressor(max_depth=7, num_leaves=200)"
   ]
  },
  {
   "cell_type": "code",
   "execution_count": null,
   "id": "27f096a0",
   "metadata": {},
   "outputs": [],
   "source": [
    "model.fit(tt_x, tt_y)"
   ]
  },
  {
   "cell_type": "code",
   "execution_count": null,
   "id": "b533454c",
   "metadata": {},
   "outputs": [],
   "source": [
    "### save model\n",
    "import pickle as pkl\n",
    "\n",
    "filename = 'xgb_model_2.pkl'\n",
    "pkl.dump(model, open(f'../../models/{filename}', \"wb\"))"
   ]
  },
  {
   "cell_type": "code",
   "execution_count": null,
   "id": "4b190e6e",
   "metadata": {},
   "outputs": [],
   "source": [
    "### load model and use to predict\n",
    "model_loaded = pkl.load(open(f'../../models/{filename}', \"rb\"))"
   ]
  },
  {
   "cell_type": "code",
   "execution_count": null,
   "id": "b4589d3f",
   "metadata": {},
   "outputs": [],
   "source": [
    "predictions = model_loaded.predict(dev_x)"
   ]
  },
  {
   "cell_type": "code",
   "execution_count": null,
   "id": "c4722c56",
   "metadata": {},
   "outputs": [],
   "source": [
    "predictions"
   ]
  },
  {
   "cell_type": "code",
   "execution_count": null,
   "id": "66da09f7",
   "metadata": {},
   "outputs": [],
   "source": [
    "#### ticket type: return ticket, one way\n",
    "#### ticket class first class, business class, economy"
   ]
  }
 ],
 "metadata": {
  "kernelspec": {
   "display_name": "Python 3 (ipykernel)",
   "language": "python",
   "name": "python3"
  },
  "language_info": {
   "codemirror_mode": {
    "name": "ipython",
    "version": 3
   },
   "file_extension": ".py",
   "mimetype": "text/x-python",
   "name": "python",
   "nbconvert_exporter": "python",
   "pygments_lexer": "ipython3",
   "version": "3.10.1"
  }
 },
 "nbformat": 4,
 "nbformat_minor": 5
}
