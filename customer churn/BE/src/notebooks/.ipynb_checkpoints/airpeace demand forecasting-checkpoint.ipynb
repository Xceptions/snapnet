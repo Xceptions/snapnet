{
 "cells": [
  {
   "cell_type": "code",
   "execution_count": 18,
   "id": "8a3560d1",
   "metadata": {},
   "outputs": [],
   "source": [
    "import numpy as np\n",
    "import pandas as pd\n",
    "import xgboost as xgb\n",
    "from sklearn.model_selection import train_test_split"
   ]
  },
  {
   "cell_type": "code",
   "execution_count": 4,
   "id": "2dc15c47",
   "metadata": {},
   "outputs": [],
   "source": [
    "train_data = '../../data/train.csv'\n",
    "test_data = '../../data/test.csv'"
   ]
  },
  {
   "cell_type": "code",
   "execution_count": 47,
   "id": "68f6a2eb",
   "metadata": {},
   "outputs": [],
   "source": [
    "train_df = pd.read_csv(train_data, index_col=False)\n",
    "test_df = pd.read_csv(test_data, index_col=False)"
   ]
  },
  {
   "cell_type": "code",
   "execution_count": 51,
   "id": "64f6cb19",
   "metadata": {},
   "outputs": [
    {
     "data": {
      "text/plain": [
       "array([ 1,  2,  3,  4,  5,  6,  7,  8,  9, 10])"
      ]
     },
     "execution_count": 51,
     "metadata": {},
     "output_type": "execute_result"
    }
   ],
   "source": [
    "train_df['store'].unique()"
   ]
  },
  {
   "cell_type": "code",
   "execution_count": 61,
   "id": "2c0aabec",
   "metadata": {},
   "outputs": [],
   "source": [
    "new_train_df = train_df.loc[(train_df['store'] == 1) | (train_df['store'] == 2)]\n",
    "new_train_df = new_train_df.loc[(new_train_df['item'] == 1) | (new_train_df['item'] == 2) | (new_train_df['item'] == 3)]"
   ]
  },
  {
   "cell_type": "code",
   "execution_count": 62,
   "id": "4169bd3f",
   "metadata": {},
   "outputs": [
    {
     "name": "stdout",
     "output_type": "stream",
     "text": [
      "<class 'pandas.core.frame.DataFrame'>\n",
      "Int64Index: 10956 entries, 0 to 40171\n",
      "Data columns (total 4 columns):\n",
      " #   Column  Non-Null Count  Dtype \n",
      "---  ------  --------------  ----- \n",
      " 0   date    10956 non-null  object\n",
      " 1   store   10956 non-null  int64 \n",
      " 2   item    10956 non-null  int64 \n",
      " 3   sales   10956 non-null  int64 \n",
      "dtypes: int64(3), object(1)\n",
      "memory usage: 428.0+ KB\n"
     ]
    }
   ],
   "source": [
    "new_train_df.info()"
   ]
  },
  {
   "cell_type": "code",
   "execution_count": 63,
   "id": "e729a5fd",
   "metadata": {},
   "outputs": [
    {
     "data": {
      "text/html": [
       "<div>\n",
       "<style scoped>\n",
       "    .dataframe tbody tr th:only-of-type {\n",
       "        vertical-align: middle;\n",
       "    }\n",
       "\n",
       "    .dataframe tbody tr th {\n",
       "        vertical-align: top;\n",
       "    }\n",
       "\n",
       "    .dataframe thead th {\n",
       "        text-align: right;\n",
       "    }\n",
       "</style>\n",
       "<table border=\"1\" class=\"dataframe\">\n",
       "  <thead>\n",
       "    <tr style=\"text-align: right;\">\n",
       "      <th></th>\n",
       "      <th>date</th>\n",
       "      <th>store</th>\n",
       "      <th>item</th>\n",
       "      <th>sales</th>\n",
       "    </tr>\n",
       "  </thead>\n",
       "  <tbody>\n",
       "    <tr>\n",
       "      <th>0</th>\n",
       "      <td>2013-01-01</td>\n",
       "      <td>1</td>\n",
       "      <td>1</td>\n",
       "      <td>13</td>\n",
       "    </tr>\n",
       "    <tr>\n",
       "      <th>1</th>\n",
       "      <td>2013-01-02</td>\n",
       "      <td>1</td>\n",
       "      <td>1</td>\n",
       "      <td>11</td>\n",
       "    </tr>\n",
       "    <tr>\n",
       "      <th>2</th>\n",
       "      <td>2013-01-03</td>\n",
       "      <td>1</td>\n",
       "      <td>1</td>\n",
       "      <td>14</td>\n",
       "    </tr>\n",
       "    <tr>\n",
       "      <th>3</th>\n",
       "      <td>2013-01-04</td>\n",
       "      <td>1</td>\n",
       "      <td>1</td>\n",
       "      <td>13</td>\n",
       "    </tr>\n",
       "    <tr>\n",
       "      <th>4</th>\n",
       "      <td>2013-01-05</td>\n",
       "      <td>1</td>\n",
       "      <td>1</td>\n",
       "      <td>10</td>\n",
       "    </tr>\n",
       "  </tbody>\n",
       "</table>\n",
       "</div>"
      ],
      "text/plain": [
       "         date  store  item  sales\n",
       "0  2013-01-01      1     1     13\n",
       "1  2013-01-02      1     1     11\n",
       "2  2013-01-03      1     1     14\n",
       "3  2013-01-04      1     1     13\n",
       "4  2013-01-05      1     1     10"
      ]
     },
     "execution_count": 63,
     "metadata": {},
     "output_type": "execute_result"
    }
   ],
   "source": [
    "new_train_df.head()"
   ]
  },
  {
   "cell_type": "code",
   "execution_count": 23,
   "id": "06f51943",
   "metadata": {},
   "outputs": [],
   "source": [
    "y_df = train_df['sales']\n",
    "train_df = train_df[['store', 'item']]"
   ]
  },
  {
   "cell_type": "code",
   "execution_count": 24,
   "id": "c4d2541e",
   "metadata": {},
   "outputs": [],
   "source": [
    "tt_x, dev_x, tt_y, dev_y = train_test_split(train_df, y_df, test_size=0.3, random_state=2022)"
   ]
  },
  {
   "cell_type": "code",
   "execution_count": 39,
   "id": "227235e1",
   "metadata": {},
   "outputs": [],
   "source": [
    "model = xgb.XGBRegressor(max_depth=7, num_leaves=200)"
   ]
  },
  {
   "cell_type": "code",
   "execution_count": 40,
   "id": "27f096a0",
   "metadata": {},
   "outputs": [
    {
     "name": "stdout",
     "output_type": "stream",
     "text": [
      "[22:27:35] WARNING: /Users/runner/miniforge3/conda-bld/xgboost-split_1637426408905/work/src/learner.cc:576: \n",
      "Parameters: { \"num_leaves\" } might not be used.\n",
      "\n",
      "  This could be a false alarm, with some parameters getting used by language bindings but\n",
      "  then being mistakenly passed down to XGBoost core, or some parameter actually being used\n",
      "  but getting flagged wrongly here. Please open an issue if you find any such cases.\n",
      "\n",
      "\n"
     ]
    },
    {
     "data": {
      "text/plain": [
       "XGBRegressor(base_score=0.5, booster='gbtree', colsample_bylevel=1,\n",
       "             colsample_bynode=1, colsample_bytree=1, enable_categorical=False,\n",
       "             gamma=0, gpu_id=-1, importance_type=None,\n",
       "             interaction_constraints='', learning_rate=0.300000012,\n",
       "             max_delta_step=0, max_depth=7, min_child_weight=1, missing=nan,\n",
       "             monotone_constraints='()', n_estimators=100, n_jobs=4,\n",
       "             num_leaves=200, num_parallel_tree=1, predictor='auto',\n",
       "             random_state=0, reg_alpha=0, reg_lambda=1, scale_pos_weight=1,\n",
       "             subsample=1, tree_method='exact', validate_parameters=1,\n",
       "             verbosity=None)"
      ]
     },
     "execution_count": 40,
     "metadata": {},
     "output_type": "execute_result"
    }
   ],
   "source": [
    "model.fit(tt_x, tt_y)"
   ]
  },
  {
   "cell_type": "code",
   "execution_count": 41,
   "id": "b533454c",
   "metadata": {},
   "outputs": [],
   "source": [
    "### save model\n",
    "import pickle as pkl\n",
    "\n",
    "filename = 'xgb_model_2.pkl'\n",
    "pkl.dump(model, open(f'../../models/{filename}', \"wb\"))"
   ]
  },
  {
   "cell_type": "code",
   "execution_count": 42,
   "id": "4b190e6e",
   "metadata": {},
   "outputs": [],
   "source": [
    "### load model and use to predict\n",
    "model_loaded = pkl.load(open(f'../../models/{filename}', \"rb\"))"
   ]
  },
  {
   "cell_type": "code",
   "execution_count": 45,
   "id": "b4589d3f",
   "metadata": {},
   "outputs": [],
   "source": [
    "predictions = model_loaded.predict(dev_x)"
   ]
  },
  {
   "cell_type": "code",
   "execution_count": 46,
   "id": "c4722c56",
   "metadata": {},
   "outputs": [
    {
     "data": {
      "text/plain": [
       "array([34.490967, 85.06868 , 79.71823 , ..., 46.0371  , 63.075546,\n",
       "       27.508284], dtype=float32)"
      ]
     },
     "execution_count": 46,
     "metadata": {},
     "output_type": "execute_result"
    }
   ],
   "source": [
    "predictions"
   ]
  },
  {
   "cell_type": "code",
   "execution_count": null,
   "id": "66da09f7",
   "metadata": {},
   "outputs": [],
   "source": [
    "#### ticket type: return ticket, one way\n",
    "#### ticket class first class, business class, economy"
   ]
  }
 ],
 "metadata": {
  "kernelspec": {
   "display_name": "Python 3 (ipykernel)",
   "language": "python",
   "name": "python3"
  },
  "language_info": {
   "codemirror_mode": {
    "name": "ipython",
    "version": 3
   },
   "file_extension": ".py",
   "mimetype": "text/x-python",
   "name": "python",
   "nbconvert_exporter": "python",
   "pygments_lexer": "ipython3",
   "version": "3.10.1"
  }
 },
 "nbformat": 4,
 "nbformat_minor": 5
}
